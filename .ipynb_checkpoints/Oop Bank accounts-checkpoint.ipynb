{
 "cells": [
  {
   "cell_type": "markdown",
   "metadata": {},
   "source": [
    "# BANK ACCOUNTS\n",
    "A Bank Account has a balance, an interest rate and a monthly fee"
   ]
  },
  {
   "cell_type": "code",
   "execution_count": 120,
   "metadata": {},
   "outputs": [],
   "source": [
    "class BankAccount:\n",
    "    def __init__(self, amount, interest, fee, balance=0):\n",
    "        self.interest = interest\n",
    "        self.amount = amount\n",
    "        self.fee = fee\n",
    "        self.balance = balance\n",
    "        \n",
    "    def finishMonth(self):\n",
    "        interest = (self.amount*self.interest)/12\n",
    "        self.balance = self.amount+interest-self.fee\n",
    "        return self.balance\n",
    "    \n",
    "    def deposit(self, amount):\n",
    "        self.deposit_amount = amount\n",
    "        self.balance += self.deposit_amount\n",
    "        return self.balance\n",
    "    \n",
    "    def withdraw(self, amount):\n",
    "        self.withdraw = amount\n",
    "        self.balance -=self.withdraw\n",
    "        return self.balance\n"
   ]
  },
  {
   "cell_type": "markdown",
   "metadata": {},
   "source": [
    "### bank accounts class test"
   ]
  },
  {
   "cell_type": "code",
   "execution_count": 121,
   "metadata": {},
   "outputs": [
    {
     "name": "stdout",
     "output_type": "stream",
     "text": [
      "Finish Month 960.0\n",
      "Deposit 1060.0\n",
      "Withdraw 1010.0\n"
     ]
    }
   ],
   "source": [
    "w = BankAccount(1000, 0.12,50)\n",
    "print(\"Finish Month\", w.finishMonth())\n",
    "print(\"Deposit\",w.deposit(100))\n",
    "print(\"Withdraw\",w.withdraw(50))\n"
   ]
  },
  {
   "cell_type": "markdown",
   "metadata": {},
   "source": [
    "# Bank\n",
    "A Bank contains many bank accounts. A bank associates each bank account with a 10 digit number known as a bank account number. In OOP, this is called encapsulation."
   ]
  },
  {
   "cell_type": "code",
   "execution_count": 158,
   "metadata": {},
   "outputs": [],
   "source": [
    "class bank:\n",
    "    def __init__(self, bank_account_number, amount):\n",
    "        self.__bank_account_number = bank_account_number\n",
    "        self.amount = amount\n",
    "        \n",
    "    def withdraw(self):\n",
    "        self.withdraw_amount = float(input('amount'))\n",
    "        if self.withdraw_amount > self.amount:\n",
    "            raise Exception('insufficient funds')                \n",
    "        self.amount = self.amount - self.withdraw_amount\n",
    "        return \"bank_balance\", self.amount\n",
    "        \n",
    "    def deposit(self):\n",
    "        self.deposit = float(input('amount'))\n",
    "        self.amount = self.deposit + self.amount\n",
    "        return \"Bank_balance\", self.amount\n",
    "    \n",
    "    def transfer(self):\n",
    "        self.transferred = float(input('amount'))\n",
    "        if self.transferred > self.amount:\n",
    "            raise Exception('insufficient funds')\n",
    "        self.amount = self.amount - self.transferred\n",
    "        self.__to_bank_account_number = str(input('acc number'))\n",
    "        if len(self.__to_bank_account_number) != 10:\n",
    "            raise Exception('Invalid account number')\n",
    "        return \"Balance\",self.amount,\"transferred_amount\",self.transferred"
   ]
  },
  {
   "cell_type": "markdown",
   "metadata": {},
   "source": [
    "### bank class test"
   ]
  },
  {
   "cell_type": "code",
   "execution_count": 159,
   "metadata": {},
   "outputs": [],
   "source": [
    "e = bank(1234567890,1000)"
   ]
  },
  {
   "cell_type": "code",
   "execution_count": 160,
   "metadata": {},
   "outputs": [
    {
     "name": "stdout",
     "output_type": "stream",
     "text": [
      "amount121\n"
     ]
    },
    {
     "data": {
      "text/plain": [
       "('bank_balance', 879.0)"
      ]
     },
     "execution_count": 160,
     "metadata": {},
     "output_type": "execute_result"
    }
   ],
   "source": [
    "e.withdraw()"
   ]
  },
  {
   "cell_type": "code",
   "execution_count": 161,
   "metadata": {},
   "outputs": [
    {
     "name": "stdout",
     "output_type": "stream",
     "text": [
      "amount5007\n"
     ]
    },
    {
     "data": {
      "text/plain": [
       "('Bank_balance', 5886.0)"
      ]
     },
     "execution_count": 161,
     "metadata": {},
     "output_type": "execute_result"
    }
   ],
   "source": [
    "e.deposit()"
   ]
  },
  {
   "cell_type": "code",
   "execution_count": 162,
   "metadata": {},
   "outputs": [
    {
     "name": "stdout",
     "output_type": "stream",
     "text": [
      "amount147\n",
      "acc number1111444400\n"
     ]
    },
    {
     "data": {
      "text/plain": [
       "('Balance', 5739.0, 'transferred_amount', 147.0)"
      ]
     },
     "execution_count": 162,
     "metadata": {},
     "output_type": "execute_result"
    }
   ],
   "source": [
    "e.transfer()"
   ]
  },
  {
   "cell_type": "markdown",
   "metadata": {},
   "source": [
    "# customers"
   ]
  },
  {
   "cell_type": "code",
   "execution_count": 196,
   "metadata": {},
   "outputs": [],
   "source": [
    "# updated bank\n",
    "import getpass\n",
    "class up_bank:\n",
    "    def __init__(self, bank_account_number, amount):\n",
    "        self.bank_account_number = bank_account_number\n",
    "        self.amount = amount\n",
    "    def setpassword(self,new_password):\n",
    "        self.new_password = new_password\n",
    "        return self.new_password        \n",
    "        \n",
    "    def withdraw(self):     # secret_password\n",
    "        self.secret_password = \"12345\"\n",
    "        x = str(getpass.getpass('password'))\n",
    "        if x != self.secret_password:\n",
    "            raise Exception(\"Incorrect password\")\n",
    "        self.withdraw_amount = int(input('amount'))\n",
    "        if self.amount < self.withdraw_amount:\n",
    "            return 'insufficient funds'\n",
    "        self.amount = self.amount - self.withdraw_amount\n",
    "        return \"bank_balance\", self.amount\n",
    "    \n",
    "    def deposit(self):     # secret_password\n",
    "        self.deposit = float(input('amount'))\n",
    "        self.amount += self.deposit\n",
    "        return \"bank_balance\", self.amount\n",
    "    \n",
    "\n",
    "    def transfer(self):\n",
    "        self.secret_password = \"12345\"\n",
    "        x = str(getpass.getpass('password'))\n",
    "        if x != self.secret_password:\n",
    "            raise Exception(\"Incorrect password\")\n",
    "        self.transferred = float(input('amount'))\n",
    "        if self.amount < self.transferred:\n",
    "            return 'insufficient funds'\n",
    "        self.amount = self.amount - self.transferred \n",
    "        self.to_bank_account_number = float(input('acc number'))\n",
    "        return \"transferred_amount\",self.transferred,\"balance\",self.amount"
   ]
  },
  {
   "cell_type": "markdown",
   "metadata": {},
   "source": [
    "### customers class test"
   ]
  },
  {
   "cell_type": "code",
   "execution_count": 197,
   "metadata": {},
   "outputs": [],
   "source": [
    "s = up_bank(123456789, 3000)"
   ]
  },
  {
   "cell_type": "code",
   "execution_count": 198,
   "metadata": {},
   "outputs": [
    {
     "name": "stdout",
     "output_type": "stream",
     "text": [
      "password········\n",
      "amount100\n"
     ]
    },
    {
     "data": {
      "text/plain": [
       "('bank_balance', 2900)"
      ]
     },
     "execution_count": 198,
     "metadata": {},
     "output_type": "execute_result"
    }
   ],
   "source": [
    "s.withdraw()"
   ]
  },
  {
   "cell_type": "code",
   "execution_count": 199,
   "metadata": {},
   "outputs": [
    {
     "name": "stdout",
     "output_type": "stream",
     "text": [
      "amount100\n"
     ]
    },
    {
     "data": {
      "text/plain": [
       "('bank_balance', 3000.0)"
      ]
     },
     "execution_count": 199,
     "metadata": {},
     "output_type": "execute_result"
    }
   ],
   "source": [
    "s.deposit()"
   ]
  },
  {
   "cell_type": "code",
   "execution_count": 200,
   "metadata": {},
   "outputs": [
    {
     "name": "stdout",
     "output_type": "stream",
     "text": [
      "password········\n",
      "amount123\n",
      "acc number2013487596\n"
     ]
    },
    {
     "data": {
      "text/plain": [
       "('transferred_amount', 123.0, 'balance', 2877.0)"
      ]
     },
     "execution_count": 200,
     "metadata": {},
     "output_type": "execute_result"
    }
   ],
   "source": [
    "\n",
    "s.transfer()"
   ]
  },
  {
   "cell_type": "code",
   "execution_count": 133,
   "metadata": {},
   "outputs": [],
   "source": [
    "class check(BankAccount):\n",
    "    pass\n",
    "        "
   ]
  },
  {
   "cell_type": "code",
   "execution_count": 141,
   "metadata": {},
   "outputs": [
    {
     "data": {
      "text/plain": [
       "272.0"
      ]
     },
     "execution_count": 141,
     "metadata": {},
     "output_type": "execute_result"
    }
   ],
   "source": [
    "y = check(1000, 0.12, 50)\n",
    "y.finishMonth()\n",
    "y.withdraw(700)\n",
    "y.deposit(12)"
   ]
  },
  {
   "cell_type": "code",
   "execution_count": null,
   "metadata": {},
   "outputs": [],
   "source": []
  },
  {
   "cell_type": "code",
   "execution_count": null,
   "metadata": {},
   "outputs": [],
   "source": []
  },
  {
   "cell_type": "code",
   "execution_count": null,
   "metadata": {},
   "outputs": [],
   "source": []
  },
  {
   "cell_type": "code",
   "execution_count": 87,
   "metadata": {},
   "outputs": [],
   "source": []
  },
  {
   "cell_type": "code",
   "execution_count": null,
   "metadata": {},
   "outputs": [],
   "source": []
  },
  {
   "cell_type": "code",
   "execution_count": null,
   "metadata": {},
   "outputs": [],
   "source": []
  }
 ],
 "metadata": {
  "kernelspec": {
   "display_name": "Python 3",
   "language": "python",
   "name": "python3"
  },
  "language_info": {
   "codemirror_mode": {
    "name": "ipython",
    "version": 3
   },
   "file_extension": ".py",
   "mimetype": "text/x-python",
   "name": "python",
   "nbconvert_exporter": "python",
   "pygments_lexer": "ipython3",
   "version": "3.7.4"
  }
 },
 "nbformat": 4,
 "nbformat_minor": 2
}
