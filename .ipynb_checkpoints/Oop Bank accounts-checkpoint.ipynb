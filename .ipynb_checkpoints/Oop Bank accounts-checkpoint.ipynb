{
 "cells": [
  {
   "cell_type": "markdown",
   "metadata": {},
   "source": [
    "# BANK ACCOUNTS\n",
    "A Bank Account has a balance, an interest rate and a monthly fee"
   ]
  },
  {
   "cell_type": "code",
   "execution_count": 1,
   "metadata": {},
   "outputs": [],
   "source": [
    "class BankAccount:\n",
    "    def __init__(self, amount, deposit_amount, interest=0.01, fee=50, balance=0):\n",
    "        self.interest = interest\n",
    "        self.amount = amount\n",
    "        self.fee = fee\n",
    "        self.balance = balance\n",
    "        self.deposit_amount = deposit_amount\n",
    "\n",
    "    def finishMonth(self):\n",
    "        self.balance = self.amount+(self.amount*self.interest) - self.fee\n",
    "        return self.balance\n",
    "    \n",
    "    def deposit(self):\n",
    "        self.deposit_amount = 10\n",
    "        self.balance = self.balance + self.deposit_amount\n",
    "        return self.balance\n",
    "    def withdraw(self):\n",
    "        self.withdraw = 500\n",
    "        self.balance = self.balance - self.withdraw\n",
    "        return self.balance\n"
   ]
  },
  {
   "cell_type": "code",
   "execution_count": 2,
   "metadata": {},
   "outputs": [],
   "source": [
    "w = BankAccount(1000, 0)"
   ]
  },
  {
   "cell_type": "code",
   "execution_count": 3,
   "metadata": {},
   "outputs": [
    {
     "data": {
      "text/plain": [
       "960.0"
      ]
     },
     "execution_count": 3,
     "metadata": {},
     "output_type": "execute_result"
    }
   ],
   "source": [
    "w.finishMonth()"
   ]
  },
  {
   "cell_type": "code",
   "execution_count": 4,
   "metadata": {},
   "outputs": [
    {
     "data": {
      "text/plain": [
       "970.0"
      ]
     },
     "execution_count": 4,
     "metadata": {},
     "output_type": "execute_result"
    }
   ],
   "source": [
    "w.deposit()"
   ]
  },
  {
   "cell_type": "code",
   "execution_count": 5,
   "metadata": {},
   "outputs": [
    {
     "data": {
      "text/plain": [
       "470.0"
      ]
     },
     "execution_count": 5,
     "metadata": {},
     "output_type": "execute_result"
    }
   ],
   "source": [
    "w.withdraw()"
   ]
  },
  {
   "cell_type": "markdown",
   "metadata": {},
   "source": [
    "# Bank\n",
    "A Bank contains many bank accounts. A bank associates each bank account with a 10 digit number known as a bank account number. In OOP, this is called encapsulation."
   ]
  },
  {
   "cell_type": "code",
   "execution_count": 29,
   "metadata": {},
   "outputs": [],
   "source": [
    "class bank:\n",
    "    def __init__(self, bank_account_number, amount):\n",
    "        self.bank_account_number = bank_account_number\n",
    "        self.amount = amount\n",
    "        \n",
    "    def withdraw(self):\n",
    "        self.withdraw_amount = 200\n",
    "        self.withdraw = self.amount - self.withdraw_amount\n",
    "        return \"Bank_account_number\",self.bank_account_number,\"bank_balance\", self.withdraw\n",
    "        \n",
    "    def deposit(self):\n",
    "        self.deposit = float(input('amount'))\n",
    "        self.bank_balance = self.deposit + self.amount\n",
    "        return \"Bank_account_number\",self.bank_account_number,\"bank_balance\", self.bank_balance\n",
    "    \n",
    "    def transfer(self):\n",
    "        self.transferred = float(input('amount'))\n",
    "        self.balance = self.amount - self.transferred\n",
    "        self.to_bank_account_number = int(input('acc number'))\n",
    "        return \"from_bank_account_number\", self.bank_account_number, \"to_bank_account_number\", self.to_bank_account_number,\"Balance\",self.transferred,\"transferred_amount\""
   ]
  },
  {
   "cell_type": "code",
   "execution_count": 7,
   "metadata": {},
   "outputs": [],
   "source": [
    "e = bank(1234567890,1000)"
   ]
  },
  {
   "cell_type": "code",
   "execution_count": 8,
   "metadata": {},
   "outputs": [
    {
     "data": {
      "text/plain": [
       "('Bank_account_number', 1234567890, 'bank_balance', 800)"
      ]
     },
     "execution_count": 8,
     "metadata": {},
     "output_type": "execute_result"
    }
   ],
   "source": [
    "e.withdraw()"
   ]
  },
  {
   "cell_type": "code",
   "execution_count": 9,
   "metadata": {},
   "outputs": [
    {
     "name": "stdout",
     "output_type": "stream",
     "text": [
      ">546465\n"
     ]
    },
    {
     "data": {
      "text/plain": [
       "('Bank_account_number', 1234567890, 'bank_balance', 547465.0)"
      ]
     },
     "execution_count": 9,
     "metadata": {},
     "output_type": "execute_result"
    }
   ],
   "source": [
    "e.deposit()"
   ]
  },
  {
   "cell_type": "code",
   "execution_count": 10,
   "metadata": {},
   "outputs": [
    {
     "name": "stdout",
     "output_type": "stream",
     "text": [
      "amount4651\n",
      "acc number4561\n"
     ]
    },
    {
     "data": {
      "text/plain": [
       "('from_bank_account_number',\n",
       " 1234567890,\n",
       " 'to_bank_account_number',\n",
       " 4561,\n",
       " 'Balance',\n",
       " 4651.0,\n",
       " 'transferred_amount')"
      ]
     },
     "execution_count": 10,
     "metadata": {},
     "output_type": "execute_result"
    }
   ],
   "source": [
    "e.transfer()"
   ]
  },
  {
   "cell_type": "markdown",
   "metadata": {},
   "source": [
    "# customers"
   ]
  },
  {
   "cell_type": "code",
   "execution_count": 37,
   "metadata": {},
   "outputs": [],
   "source": [
    "# updated bank\n",
    "class up_bank:\n",
    "    def __init__(self, bank_account_number, amount):\n",
    "        self.bank_account_number = bank_account_number\n",
    "        self.amount = amount\n",
    "        \n",
    "    def withdraw(self):     # secret_password\n",
    "        self.secret_password = 12345\n",
    "        x = int(input('password'))\n",
    "        if x != password:\n",
    "            raise Exception(\"Incorrect password\")\n",
    "        self.withdraw_amount = int(input('amount'))\n",
    "        self.withdraw = self.amount - self.withdraw_amount\n",
    "        return \"Bank_account_number\",self.bank_account_number,\"bank_balance\", self.withdraw, \"secret password\", self.secret_password\n",
    "        \n",
    "    def deposit(self):     # secret_password\n",
    "        self.secret_password = 12345\n",
    "        x = int(input('password'))\n",
    "        if x != password:\n",
    "            raise Exception(\"Incorrect password\")\n",
    "        self.deposit = float(input('amount'))\n",
    "        self.bank_balance = self.deposit + self.amount\n",
    "        return \"Bank_account_number\",self.bank_account_number,\"bank_balance\", self.bank_balance\n",
    "    \n",
    "    def transfer(self):\n",
    "        self.transferred = self.amount - float(input(''))\n",
    "        self.to_bank_account_number = 1234567891\n",
    "        return \"from_bank_account_number\", self.bank_account_number, \"to_bank_account_number\", self.to_bank_account_number, \"transferred_amount\",self.transferre"
   ]
  },
  {
   "cell_type": "code",
   "execution_count": 38,
   "metadata": {},
   "outputs": [],
   "source": [
    "s = up_bank(123456789, 3000)"
   ]
  },
  {
   "cell_type": "code",
   "execution_count": 39,
   "metadata": {},
   "outputs": [
    {
     "name": "stdout",
     "output_type": "stream",
     "text": [
      "password12345\n",
      "amount17487\n"
     ]
    },
    {
     "data": {
      "text/plain": [
       "('Bank_account_number',\n",
       " 123456789,\n",
       " 'bank_balance',\n",
       " -14487,\n",
       " 'secret password',\n",
       " 12345)"
      ]
     },
     "execution_count": 39,
     "metadata": {},
     "output_type": "execute_result"
    }
   ],
   "source": [
    "s.withdraw()"
   ]
  },
  {
   "cell_type": "code",
   "execution_count": 25,
   "metadata": {},
   "outputs": [
    {
     "name": "stdout",
     "output_type": "stream",
     "text": [
      "password12345\n"
     ]
    }
   ],
   "source": [
    "password = 12345\n",
    "x = float(input('password'))\n",
    "if x != password:\n",
    "    raise Exception(\"Incorrect password\")"
   ]
  },
  {
   "cell_type": "code",
   "execution_count": null,
   "metadata": {},
   "outputs": [],
   "source": []
  }
 ],
 "metadata": {
  "kernelspec": {
   "display_name": "Python 3",
   "language": "python",
   "name": "python3"
  },
  "language_info": {
   "codemirror_mode": {
    "name": "ipython",
    "version": 3
   },
   "file_extension": ".py",
   "mimetype": "text/x-python",
   "name": "python",
   "nbconvert_exporter": "python",
   "pygments_lexer": "ipython3",
   "version": "3.7.4"
  }
 },
 "nbformat": 4,
 "nbformat_minor": 2
}
