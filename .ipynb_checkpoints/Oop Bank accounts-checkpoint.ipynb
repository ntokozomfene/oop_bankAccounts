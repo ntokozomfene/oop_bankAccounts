{
 "cells": [
  {
   "cell_type": "markdown",
   "metadata": {},
   "source": [
    "# BANK ACCOUNTS\n",
    "A Bank Account has a balance, an interest rate and a monthly fee"
   ]
  },
  {
   "cell_type": "code",
   "execution_count": 1,
   "metadata": {},
   "outputs": [],
   "source": [
    "class BankAccount:\n",
    "    def __init__(self, amount, interest, fee, balance=0):\n",
    "        self.interest = interest\n",
    "        self.amount = amount\n",
    "        self.fee = fee\n",
    "        self.balance = balance\n",
    "        \n",
    "    def finishMonth(self):\n",
    "        interest = (self.amount*self.interest)/12\n",
    "        self.balance = self.amount+interest-self.fee\n",
    "        return self.balance\n",
    "    \n",
    "    def deposit(self, amount):\n",
    "        self.balance += amount\n",
    "        return self.balance\n",
    "    \n",
    "    def withdraw(self, amount):\n",
    "        self.withdraw = amount\n",
    "        self.balance -=self.withdraw\n",
    "        return self.balance\n"
   ]
  },
  {
   "cell_type": "markdown",
   "metadata": {},
   "source": [
    "### bank accounts class test"
   ]
  },
  {
   "cell_type": "code",
   "execution_count": 2,
   "metadata": {},
   "outputs": [
    {
     "name": "stdout",
     "output_type": "stream",
     "text": [
      "Finish Month 960.0\n",
      "Deposit 1060.0\n",
      "Withdraw 1010.0\n"
     ]
    }
   ],
   "source": [
    "w = BankAccount(1000, 0.12,50)\n",
    "print(\"Finish Month\", w.finishMonth())\n",
    "print(\"Deposit\",w.deposit(100))\n",
    "print(\"Withdraw\",w.withdraw(50))\n"
   ]
  },
  {
   "cell_type": "markdown",
   "metadata": {},
   "source": [
    "# Bank\n",
    "A Bank contains many bank accounts. A bank associates each bank account with a 10 digit number known as a bank account number. In OOP, this is called encapsulation."
   ]
  },
  {
   "cell_type": "code",
   "execution_count": 3,
   "metadata": {},
   "outputs": [
    {
     "data": {
      "text/html": [
       "<div>\n",
       "<style scoped>\n",
       "    .dataframe tbody tr th:only-of-type {\n",
       "        vertical-align: middle;\n",
       "    }\n",
       "\n",
       "    .dataframe tbody tr th {\n",
       "        vertical-align: top;\n",
       "    }\n",
       "\n",
       "    .dataframe thead th {\n",
       "        text-align: right;\n",
       "    }\n",
       "</style>\n",
       "<table border=\"1\" class=\"dataframe\">\n",
       "  <thead>\n",
       "    <tr style=\"text-align: right;\">\n",
       "      <th></th>\n",
       "      <th>account_number</th>\n",
       "      <th>amount</th>\n",
       "    </tr>\n",
       "  </thead>\n",
       "  <tbody>\n",
       "    <tr>\n",
       "      <th>0</th>\n",
       "      <td>1234567890</td>\n",
       "      <td>1000</td>\n",
       "    </tr>\n",
       "    <tr>\n",
       "      <th>1</th>\n",
       "      <td>2345678901</td>\n",
       "      <td>2000</td>\n",
       "    </tr>\n",
       "    <tr>\n",
       "      <th>2</th>\n",
       "      <td>3456789012</td>\n",
       "      <td>30</td>\n",
       "    </tr>\n",
       "  </tbody>\n",
       "</table>\n",
       "</div>"
      ],
      "text/plain": [
       "   account_number  amount\n",
       "0      1234567890    1000\n",
       "1      2345678901    2000\n",
       "2      3456789012      30"
      ]
     },
     "execution_count": 3,
     "metadata": {},
     "output_type": "execute_result"
    }
   ],
   "source": [
    "import pandas as pd\n",
    "bank = pd.DataFrame({'account_number':[1234567890,2345678901,3456789012],\n",
    "        'amount':[1000,2000,30]})\n",
    "bank"
   ]
  },
  {
   "cell_type": "code",
   "execution_count": 82,
   "metadata": {},
   "outputs": [],
   "source": [
    "import numpy as np\n",
    "class Bank:\n",
    "    def __init__(self,bank):\n",
    "        self.bank = bank\n",
    "        \n",
    "    def withdraw(self,account_number,amount):\n",
    "        self.account_number = account_number\n",
    "        self.amount = amount\n",
    "        a = self.bank[self.bank.account_number == self.account_number].amount\n",
    "        if self.account_number != int(self.bank[self.bank.account_number ==self.account_number].account_number):\n",
    "            raise Exception('Invalid Account Number')\n",
    "        if self.amount > float(a):\n",
    "            raise Exception('insufficient funds')\n",
    "        df = self.bank[self.bank.account_number==self.account_number]\n",
    "        new_df = df.replace(df.amount.values,a-self.amount)\n",
    "        self.bank.update(new_df)\n",
    "        \n",
    "        return 'Balance',a-self.amount\n",
    "    \n",
    "    \n",
    "    def deposit(self,account_number,amount):\n",
    "        self.account_number = account_number\n",
    "        self.amount = amount\n",
    "        a = self.bank[self.bank.account_number == self.account_number].amount\n",
    "        if self.account_number != int(self.bank[self.bank.account_number ==self.account_number].account_number):\n",
    "            raise Exception('Invalid Account Number')\n",
    "        if self.amount > float(a):\n",
    "            raise Exception('insufficient funds')\n",
    "        balance =a + self.amount\n",
    "        df = self.bank[self.bank.account_number==self.account_number]\n",
    "        new_df = df.replace(df.amount.values,balance)\n",
    "        self.bank.update(new_df)\n",
    "        return 'Balance', balance    \n",
    "    \n",
    "    def transfer(self,fromBankAccountNumber,toBankAccountNumber, amount):\n",
    "        self.fromBankAccountNumber = fromBankAccountNumber\n",
    "        self.toBankAccountNumber = toBankAccountNumber\n",
    "        self.amount = amount\n",
    "        if self.fromBankAccountNumber != int(self.bank[self.bank.account_number ==self.fromBankAccountNumber].account_number):\n",
    "            raise Exception('Invalid Account Number')\n",
    "        if self.toBankAccountNumber != int(self.bank[self.bank.account_number ==self.toBankAccountNumber].account_number):\n",
    "            raise Exception('Invalid Account Number')\n",
    "        to_df = self.bank[self.bank.account_number == self.toBankAccountNumber]\n",
    "        new_to_df = to_df.replace(to_df.amount.values,to_df.amount+self.amount)\n",
    "        self.bank.update(new_to_df)\n",
    "        from_df = self.bank[self.bank.account_number == self.fromBankAccountNumber]\n",
    "        new_from_df = from_df.replace(from_df.amount.values,from_df.amount-self.amount)\n",
    "        self.bank.update(new_from_df)\n",
    "        return 'Balance', int(self.bank[self.bank.account_number == self.toBankAccountNumber].amount)+self.amount\n",
    "        "
   ]
  },
  {
   "cell_type": "markdown",
   "metadata": {},
   "source": [
    "### bank class test"
   ]
  },
  {
   "cell_type": "code",
   "execution_count": 83,
   "metadata": {},
   "outputs": [],
   "source": [
    "a = Bank(bank)"
   ]
  },
  {
   "cell_type": "code",
   "execution_count": 84,
   "metadata": {},
   "outputs": [
    {
     "data": {
      "text/plain": [
       "('Balance',\n",
       " 0    847.0\n",
       " Name: amount, dtype: float64)"
      ]
     },
     "execution_count": 84,
     "metadata": {},
     "output_type": "execute_result"
    }
   ],
   "source": [
    "a.withdraw(1234567890,20)"
   ]
  },
  {
   "cell_type": "code",
   "execution_count": 85,
   "metadata": {},
   "outputs": [
    {
     "data": {
      "text/plain": [
       "('Balance',\n",
       " 1    2048.0\n",
       " Name: amount, dtype: float64)"
      ]
     },
     "execution_count": 85,
     "metadata": {},
     "output_type": "execute_result"
    }
   ],
   "source": [
    "a.deposit(2345678901,12)"
   ]
  },
  {
   "cell_type": "code",
   "execution_count": 86,
   "metadata": {},
   "outputs": [
    {
     "data": {
      "text/plain": [
       "('Balance', 907)"
      ]
     },
     "execution_count": 86,
     "metadata": {},
     "output_type": "execute_result"
    }
   ],
   "source": [
    "a.transfer(3456789012,1234567890,30)"
   ]
  },
  {
   "cell_type": "markdown",
   "metadata": {},
   "source": [
    "# customers"
   ]
  },
  {
   "cell_type": "code",
   "execution_count": 9,
   "metadata": {},
   "outputs": [
    {
     "data": {
      "text/html": [
       "<div>\n",
       "<style scoped>\n",
       "    .dataframe tbody tr th:only-of-type {\n",
       "        vertical-align: middle;\n",
       "    }\n",
       "\n",
       "    .dataframe tbody tr th {\n",
       "        vertical-align: top;\n",
       "    }\n",
       "\n",
       "    .dataframe thead th {\n",
       "        text-align: right;\n",
       "    }\n",
       "</style>\n",
       "<table border=\"1\" class=\"dataframe\">\n",
       "  <thead>\n",
       "    <tr style=\"text-align: right;\">\n",
       "      <th></th>\n",
       "      <th>account_number</th>\n",
       "      <th>amount</th>\n",
       "      <th>pin</th>\n",
       "    </tr>\n",
       "  </thead>\n",
       "  <tbody>\n",
       "    <tr>\n",
       "      <th>0</th>\n",
       "      <td>1234567890</td>\n",
       "      <td>1000</td>\n",
       "      <td>1234</td>\n",
       "    </tr>\n",
       "    <tr>\n",
       "      <th>1</th>\n",
       "      <td>2345678901</td>\n",
       "      <td>2000</td>\n",
       "      <td>2341</td>\n",
       "    </tr>\n",
       "    <tr>\n",
       "      <th>2</th>\n",
       "      <td>3456789012</td>\n",
       "      <td>30</td>\n",
       "      <td>3412</td>\n",
       "    </tr>\n",
       "  </tbody>\n",
       "</table>\n",
       "</div>"
      ],
      "text/plain": [
       "   account_number  amount   pin\n",
       "0      1234567890    1000  1234\n",
       "1      2345678901    2000  2341\n",
       "2      3456789012      30  3412"
      ]
     },
     "execution_count": 9,
     "metadata": {},
     "output_type": "execute_result"
    }
   ],
   "source": [
    "df = pd.DataFrame({'account_number':[1234567890,2345678901,3456789012],\n",
    "        'amount':[1000,2000,30],'pin':[1234,2341,3412]})\n",
    "df"
   ]
  },
  {
   "cell_type": "code",
   "execution_count": 50,
   "metadata": {},
   "outputs": [],
   "source": [
    "class up_bank:\n",
    "    def __init__(self, df):\n",
    "        self.df = df\n",
    "        \n",
    "    def setpassword(self,bankAccountNumber,secretPassword,newPassword,confPassword):\n",
    "        self.bankAccountNumber = bankAccountNumber\n",
    "        self.secretPassword = secretPassword\n",
    "        self.newPassword = newPassword\n",
    "        self.confPassword = confPassword\n",
    "        if self.newPassword != self.confPassword:\n",
    "            raise Exception(\"newPassword and confPassword not the same\")\n",
    "        new_df = self.df[self.df.account_number==self.bankAccountNumber].replace(self.secretPassword,self.newPassword)\n",
    "        self.df.update(new_df)\n",
    "        return \"Password change successful\"\n",
    "    \n",
    "    def withdraw(self,bankAccountNumber,amount,secretPassword):\n",
    "        self.__bankAccountNumber = bankAccountNumber\n",
    "        self.amount = amount\n",
    "        self.__secretPassword = secretPassword\n",
    "        account = self.df[self.df.account_number == self.__bankAccountNumber]\n",
    "        if self.__bankAccountNumber != int(account.account_number):\n",
    "            raise Exception('Invalid Account Number')\n",
    "        if self.__secretPassword != int(account.pin):\n",
    "            raise Exception('Incorrect password')\n",
    "        balance = account.amount - self.amount\n",
    "        new_df = account.replace(account.amount.values, balance)\n",
    "        self.df.update(new_df)\n",
    "        return balance\n",
    "        \n",
    "    def deposit(self,bankAccountNumber,amount):\n",
    "        self.bankAccountNumber = bankAccountNumber\n",
    "        self.amount = amount\n",
    "        account = self.df[self.df.account_number == self.__bankAccountNumber]\n",
    "        balance = account.amount + self.amount\n",
    "        new_df = account.replace(account.amount.values, balance)\n",
    "        self.df.update(new_df)\n",
    "        return 'Balance', account.amount+self.amount\n",
    "        \n",
    "    def transfer(self,fromBankAccountNumber,toBankAccountNumber,amount,secretPassword):\n",
    "        self.secretPassword = secretPassword        \n",
    "        self.fromBankAccountNumber = fromBankAccountNumber\n",
    "        self.toBankAccountNumber = toBankAccountNumber\n",
    "        self.amount = amount                \n",
    "        if self.fromBankAccountNumber != int(self.df[self.df.account_number ==self.fromBankAccountNumber].account_number) or self.secretPassword != int(self.df[self.df.account_number ==self.fromBankAccountNumber].pin):\n",
    "            raise Exception('Invalid Account Number or SecretPassword')\n",
    "        if self.toBankAccountNumber != int(self.df[self.df.account_number ==self.toBankAccountNumber].account_number):\n",
    "            raise Exception('Invalid Account Number')        \n",
    "        to_df = self.df[self.df.account_number == self.toBankAccountNumber]\n",
    "        from_df = self.df[self.df.account_number == self.fromBankAccountNumber]                        \n",
    "        to_balance = int(to_df.amount)+self.amount\n",
    "        from_balance = int(from_df.amount)-self.amount\n",
    "        self.df.update(to_df.replace(to_df.amount.values, to_balance))\n",
    "        self.df.update(from_df.replace(from_df.amount.values, from_balance))        \n",
    "        return 'Balance', from_balance, self.df"
   ]
  },
  {
   "cell_type": "markdown",
   "metadata": {},
   "source": [
    "### customers class test"
   ]
  },
  {
   "cell_type": "code",
   "execution_count": 51,
   "metadata": {},
   "outputs": [],
   "source": [
    "b = up_bank(df)"
   ]
  },
  {
   "cell_type": "code",
   "execution_count": 52,
   "metadata": {},
   "outputs": [
    {
     "data": {
      "text/plain": [
       "'Password change successful'"
      ]
     },
     "execution_count": 52,
     "metadata": {},
     "output_type": "execute_result"
    }
   ],
   "source": [
    "b.setpassword(1234567890,1234,9876,9876)"
   ]
  },
  {
   "cell_type": "code",
   "execution_count": 53,
   "metadata": {},
   "outputs": [
    {
     "data": {
      "text/plain": [
       "1    7082.0\n",
       "Name: amount, dtype: float64"
      ]
     },
     "execution_count": 53,
     "metadata": {},
     "output_type": "execute_result"
    }
   ],
   "source": [
    "b.withdraw(2345678901,1230,2341)"
   ]
  },
  {
   "cell_type": "code",
   "execution_count": 54,
   "metadata": {},
   "outputs": [
    {
     "data": {
      "text/plain": [
       "('Balance',\n",
       " 1    12083.0\n",
       " Name: amount, dtype: float64)"
      ]
     },
     "execution_count": 54,
     "metadata": {},
     "output_type": "execute_result"
    }
   ],
   "source": [
    "b.deposit(1234567890, 5001)"
   ]
  },
  {
   "cell_type": "code",
   "execution_count": 55,
   "metadata": {},
   "outputs": [
    {
     "data": {
      "text/plain": [
       "('Balance',\n",
       " 900,\n",
       "    account_number   amount     pin\n",
       " 0    1.234568e+09    900.0  9876.0\n",
       " 1    2.345679e+09  12183.0  2341.0\n",
       " 2    3.456789e+09     30.0  3412.0)"
      ]
     },
     "execution_count": 55,
     "metadata": {},
     "output_type": "execute_result"
    }
   ],
   "source": [
    "b.transfer(1234567890,2345678901,100,9876)"
   ]
  },
  {
   "cell_type": "code",
   "execution_count": null,
   "metadata": {},
   "outputs": [],
   "source": []
  },
  {
   "cell_type": "code",
   "execution_count": null,
   "metadata": {},
   "outputs": [],
   "source": []
  },
  {
   "cell_type": "code",
   "execution_count": null,
   "metadata": {},
   "outputs": [],
   "source": []
  }
 ],
 "metadata": {
  "kernelspec": {
   "display_name": "Python 3",
   "language": "python",
   "name": "python3"
  },
  "language_info": {
   "codemirror_mode": {
    "name": "ipython",
    "version": 3
   },
   "file_extension": ".py",
   "mimetype": "text/x-python",
   "name": "python",
   "nbconvert_exporter": "python",
   "pygments_lexer": "ipython3",
   "version": "3.7.6"
  }
 },
 "nbformat": 4,
 "nbformat_minor": 2
}
