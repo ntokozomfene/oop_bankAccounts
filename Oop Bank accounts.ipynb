{
 "cells": [
  {
   "cell_type": "markdown",
   "metadata": {},
   "source": [
    "# BANK ACCOUNTS\n",
    "A Bank Account has a balance, an interest rate and a monthly fee"
   ]
  },
  {
   "cell_type": "code",
   "execution_count": 1,
   "metadata": {},
   "outputs": [],
   "source": [
    "class BankAccount:\n",
    "    def __init__(self, amount, deposit_amount, interest=0.01, fee=50, balance=0):\n",
    "        self.interest = interest\n",
    "        self.amount = amount\n",
    "        self.fee = fee\n",
    "        self.balance = balance\n",
    "        self.deposit_amount = deposit_amount\n",
    "\n",
    "    def finishMonth(self):\n",
    "        self.balance = self.amount+(self.amount*self.interest)-self.fee\n",
    "        return self.balance\n",
    "    \n",
    "    def deposit(self, amount):\n",
    "        self.deposit_amount = amount\n",
    "        self.balance = self.balance+self.deposit_amount\n",
    "        return self.balance\n",
    "    \n",
    "    def withdraw(self, amount):\n",
    "        self.withdraw = amount\n",
    "        self.balance = self.balance-self.withdraw\n",
    "        return self.balance\n"
   ]
  },
  {
   "cell_type": "markdown",
   "metadata": {},
   "source": [
    "### bank accounts class test"
   ]
  },
  {
   "cell_type": "code",
   "execution_count": 2,
   "metadata": {},
   "outputs": [],
   "source": [
    "w = BankAccount(1000, 0)"
   ]
  },
  {
   "cell_type": "code",
   "execution_count": 3,
   "metadata": {},
   "outputs": [
    {
     "data": {
      "text/plain": [
       "960.0"
      ]
     },
     "execution_count": 3,
     "metadata": {},
     "output_type": "execute_result"
    }
   ],
   "source": [
    "w.finishMonth()"
   ]
  },
  {
   "cell_type": "code",
   "execution_count": 4,
   "metadata": {},
   "outputs": [
    {
     "data": {
      "text/plain": [
       "1060.0"
      ]
     },
     "execution_count": 4,
     "metadata": {},
     "output_type": "execute_result"
    }
   ],
   "source": [
    "w.deposit(100)"
   ]
  },
  {
   "cell_type": "code",
   "execution_count": 5,
   "metadata": {},
   "outputs": [
    {
     "data": {
      "text/plain": [
       "1010.0"
      ]
     },
     "execution_count": 5,
     "metadata": {},
     "output_type": "execute_result"
    }
   ],
   "source": [
    "w.withdraw(50)"
   ]
  },
  {
   "cell_type": "markdown",
   "metadata": {},
   "source": [
    "# Bank\n",
    "A Bank contains many bank accounts. A bank associates each bank account with a 10 digit number known as a bank account number. In OOP, this is called encapsulation."
   ]
  },
  {
   "cell_type": "code",
   "execution_count": 68,
   "metadata": {},
   "outputs": [],
   "source": [
    "class bank:\n",
    "    def __init__(self, bank_account_number, amount):\n",
    "        self.bank_account_number = bank_account_number\n",
    "        self.amount = amount\n",
    "        \n",
    "    def withdraw(self):\n",
    "        self.withdraw_amount = float(input('amount'))\n",
    "        if self.withdraw_amount > self.amount:\n",
    "            raise Exception('insufficient funds')                \n",
    "        self.amount = self.amount - self.withdraw_amount\n",
    "        return \"Bank_account_number\",self.bank_account_number,\"bank_balance\", self.amount\n",
    "        \n",
    "    def deposit(self):\n",
    "        self.deposit = float(input('amount'))\n",
    "        self.amount = self.deposit + self.amount\n",
    "        return \"Bank_account_number\",self.bank_account_number,\"bank_balance\", self.amount\n",
    "    \n",
    "    def transfer(self):\n",
    "        self.transferred = float(input('amount'))\n",
    "        if self.transferred > self.amount:\n",
    "            raise Exception('insufficient funds')\n",
    "        self.amount = self.amount - self.transferred\n",
    "        self.to_bank_account_number = int(input('acc number'))\n",
    "        return \"from_bank_account_number\", self.bank_account_number, \"to_bank_account_number\", self.to_bank_account_number,\"Balance\",self.amount,\"transferred_amount\",self.transferred"
   ]
  },
  {
   "cell_type": "markdown",
   "metadata": {},
   "source": [
    "### bank class test"
   ]
  },
  {
   "cell_type": "code",
   "execution_count": 69,
   "metadata": {},
   "outputs": [],
   "source": [
    "e = bank(1234567890,1000)"
   ]
  },
  {
   "cell_type": "code",
   "execution_count": 70,
   "metadata": {},
   "outputs": [
    {
     "name": "stdout",
     "output_type": "stream",
     "text": [
      "amount102\n"
     ]
    },
    {
     "data": {
      "text/plain": [
       "('Bank_account_number', 1234567890, 'bank_balance', 898.0)"
      ]
     },
     "execution_count": 70,
     "metadata": {},
     "output_type": "execute_result"
    }
   ],
   "source": [
    "e.withdraw()"
   ]
  },
  {
   "cell_type": "code",
   "execution_count": 71,
   "metadata": {},
   "outputs": [
    {
     "name": "stdout",
     "output_type": "stream",
     "text": [
      "amount1544\n"
     ]
    },
    {
     "data": {
      "text/plain": [
       "('Bank_account_number', 1234567890, 'bank_balance', 2442.0)"
      ]
     },
     "execution_count": 71,
     "metadata": {},
     "output_type": "execute_result"
    }
   ],
   "source": [
    "e.deposit()"
   ]
  },
  {
   "cell_type": "code",
   "execution_count": 73,
   "metadata": {},
   "outputs": [
    {
     "name": "stdout",
     "output_type": "stream",
     "text": [
      "amount45678785\n"
     ]
    },
    {
     "ename": "Exception",
     "evalue": "insufficient funds",
     "output_type": "error",
     "traceback": [
      "\u001b[0;31m---------------------------------------------------------------------------\u001b[0m",
      "\u001b[0;31mException\u001b[0m                                 Traceback (most recent call last)",
      "\u001b[0;32m<ipython-input-73-07465eb75d00>\u001b[0m in \u001b[0;36m<module>\u001b[0;34m\u001b[0m\n\u001b[0;32m----> 1\u001b[0;31m \u001b[0me\u001b[0m\u001b[0;34m.\u001b[0m\u001b[0mtransfer\u001b[0m\u001b[0;34m(\u001b[0m\u001b[0;34m)\u001b[0m\u001b[0;34m\u001b[0m\u001b[0;34m\u001b[0m\u001b[0m\n\u001b[0m",
      "\u001b[0;32m<ipython-input-68-957f02b57687>\u001b[0m in \u001b[0;36mtransfer\u001b[0;34m(self)\u001b[0m\n\u001b[1;32m     19\u001b[0m         \u001b[0mself\u001b[0m\u001b[0;34m.\u001b[0m\u001b[0mtransferred\u001b[0m \u001b[0;34m=\u001b[0m \u001b[0mfloat\u001b[0m\u001b[0;34m(\u001b[0m\u001b[0minput\u001b[0m\u001b[0;34m(\u001b[0m\u001b[0;34m'amount'\u001b[0m\u001b[0;34m)\u001b[0m\u001b[0;34m)\u001b[0m\u001b[0;34m\u001b[0m\u001b[0;34m\u001b[0m\u001b[0m\n\u001b[1;32m     20\u001b[0m         \u001b[0;32mif\u001b[0m \u001b[0mself\u001b[0m\u001b[0;34m.\u001b[0m\u001b[0mtransferred\u001b[0m \u001b[0;34m>\u001b[0m \u001b[0mself\u001b[0m\u001b[0;34m.\u001b[0m\u001b[0mamount\u001b[0m\u001b[0;34m:\u001b[0m\u001b[0;34m\u001b[0m\u001b[0;34m\u001b[0m\u001b[0m\n\u001b[0;32m---> 21\u001b[0;31m             \u001b[0;32mraise\u001b[0m \u001b[0mException\u001b[0m\u001b[0;34m(\u001b[0m\u001b[0;34m'insufficient funds'\u001b[0m\u001b[0;34m)\u001b[0m\u001b[0;34m\u001b[0m\u001b[0;34m\u001b[0m\u001b[0m\n\u001b[0m\u001b[1;32m     22\u001b[0m         \u001b[0mself\u001b[0m\u001b[0;34m.\u001b[0m\u001b[0mamount\u001b[0m \u001b[0;34m=\u001b[0m \u001b[0mself\u001b[0m\u001b[0;34m.\u001b[0m\u001b[0mamount\u001b[0m \u001b[0;34m-\u001b[0m \u001b[0mself\u001b[0m\u001b[0;34m.\u001b[0m\u001b[0mtransferred\u001b[0m\u001b[0;34m\u001b[0m\u001b[0;34m\u001b[0m\u001b[0m\n\u001b[1;32m     23\u001b[0m         \u001b[0mself\u001b[0m\u001b[0;34m.\u001b[0m\u001b[0mto_bank_account_number\u001b[0m \u001b[0;34m=\u001b[0m \u001b[0mint\u001b[0m\u001b[0;34m(\u001b[0m\u001b[0minput\u001b[0m\u001b[0;34m(\u001b[0m\u001b[0;34m'acc number'\u001b[0m\u001b[0;34m)\u001b[0m\u001b[0;34m)\u001b[0m\u001b[0;34m\u001b[0m\u001b[0;34m\u001b[0m\u001b[0m\n",
      "\u001b[0;31mException\u001b[0m: insufficient funds"
     ]
    }
   ],
   "source": [
    "e.transfer()"
   ]
  },
  {
   "cell_type": "markdown",
   "metadata": {},
   "source": [
    "# customers"
   ]
  },
  {
   "cell_type": "code",
   "execution_count": 75,
   "metadata": {},
   "outputs": [],
   "source": [
    "# updated bank\n",
    "import getpass\n",
    "class up_bank:\n",
    "    def __init__(self, bank_account_number, amount):\n",
    "        self.bank_account_number = bank_account_number\n",
    "        self.amount = amount\n",
    "        \n",
    "    def withdraw(self):     # secret_password\n",
    "        self.secret_password = 12345\n",
    "        x = int(getpass.getpass('password'))\n",
    "        if x != self.secret_password:\n",
    "            raise Exception(\"Incorrect password\")\n",
    "        self.withdraw_amount = int(input('amount'))\n",
    "        if self.amount < self.withdraw_amount:\n",
    "            return 'insufficient funds'\n",
    "        self.amount = self.amount - self.withdraw_amount\n",
    "        return \"Bank_account_number\",self.bank_account_number,\"bank_balance\", self.amount\n",
    "    \n",
    "    def deposit(self):     # secret_password\n",
    "        self.deposit = float(input('amount'))\n",
    "        self.amount = self.deposit + self.amount\n",
    "        return \"Bank_account_number\",self.bank_account_number,\"bank_balance\", self.amount\n",
    "    \n",
    "\n",
    "    def transfer(self):\n",
    "        self.secret_password = 12345\n",
    "        x = int(getpass.getpass('password'))\n",
    "        if x != self.secret_password:\n",
    "            raise Exception(\"Incorrect password\")\n",
    "        self.transferred = float(input('amount'))\n",
    "        if self.amount < self.transferred:\n",
    "            return 'insufficient funds'\n",
    "        self.amount = self.amount - self.transferred \n",
    "        self.to_bank_account_number = float(input('acc number'))\n",
    "        return \"from_bank_account_number\", self.bank_account_number, \"to_bank_account_number\",self.to_bank_account_number,\"transferred_amount\",self.transferred,\"balance\",self.amount"
   ]
  },
  {
   "cell_type": "markdown",
   "metadata": {},
   "source": [
    "### customers class test"
   ]
  },
  {
   "cell_type": "code",
   "execution_count": 76,
   "metadata": {},
   "outputs": [],
   "source": [
    "s = up_bank(123456789, 3000)"
   ]
  },
  {
   "cell_type": "code",
   "execution_count": 77,
   "metadata": {},
   "outputs": [
    {
     "name": "stdout",
     "output_type": "stream",
     "text": [
      "password········\n",
      "amount14245\n"
     ]
    },
    {
     "data": {
      "text/plain": [
       "'insufficient funds'"
      ]
     },
     "execution_count": 77,
     "metadata": {},
     "output_type": "execute_result"
    }
   ],
   "source": [
    "s.withdraw()"
   ]
  },
  {
   "cell_type": "code",
   "execution_count": 78,
   "metadata": {},
   "outputs": [
    {
     "name": "stdout",
     "output_type": "stream",
     "text": [
      "amount12345\n"
     ]
    },
    {
     "data": {
      "text/plain": [
       "('Bank_account_number', 123456789, 'bank_balance', 15345.0)"
      ]
     },
     "execution_count": 78,
     "metadata": {},
     "output_type": "execute_result"
    }
   ],
   "source": [
    "s.deposit()"
   ]
  },
  {
   "cell_type": "code",
   "execution_count": 80,
   "metadata": {},
   "outputs": [
    {
     "name": "stdout",
     "output_type": "stream",
     "text": [
      "password········\n",
      "amount1\n",
      "acc number142475758\n"
     ]
    },
    {
     "data": {
      "text/plain": [
       "('from_bank_account_number',\n",
       " 123456789,\n",
       " 'to_bank_account_number',\n",
       " 142475758.0,\n",
       " 'transferred_amount',\n",
       " 1.0,\n",
       " 'balance',\n",
       " 15344.0)"
      ]
     },
     "execution_count": 80,
     "metadata": {},
     "output_type": "execute_result"
    }
   ],
   "source": [
    "\n",
    "s.transfer()"
   ]
  }
 ],
 "metadata": {
  "kernelspec": {
   "display_name": "Python 3",
   "language": "python",
   "name": "python3"
  },
  "language_info": {
   "codemirror_mode": {
    "name": "ipython",
    "version": 3
   },
   "file_extension": ".py",
   "mimetype": "text/x-python",
   "name": "python",
   "nbconvert_exporter": "python",
   "pygments_lexer": "ipython3",
   "version": "3.7.4"
  }
 },
 "nbformat": 4,
 "nbformat_minor": 2
}
