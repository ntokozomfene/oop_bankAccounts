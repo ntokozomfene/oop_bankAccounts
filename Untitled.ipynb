{
 "cells": [
  {
   "cell_type": "markdown",
   "metadata": {},
   "source": [
    "# BANK ACCOUNTS\n",
    "A Bank Account has a balance, an interest rate and a monthly fee\n",
    "    "
   ]
  },
  {
   "cell_type": "code",
   "execution_count": 43,
   "metadata": {
    "scrolled": true
   },
   "outputs": [
    {
     "data": {
      "text/plain": [
       "960.0"
      ]
     },
     "execution_count": 43,
     "metadata": {},
     "output_type": "execute_result"
    }
   ],
   "source": [
    "class BankAccount:\n",
    "    def __init__(self,balance, interest,fee):\n",
    "        self.interest = interest\n",
    "        self.fee = fee\n",
    "        self.balance = balance\n",
    "        \n",
    "    def finishMonth(self):\n",
    "        interest = (self.balance*self.interest)/12\n",
    "        self.balance = self.balance+interest-self.fee\n",
    "        return self.balance\n",
    "    \n",
    "    def deposit(self, amount):\n",
    "        self.amount = amount\n",
    "        self.balance += self.amount\n",
    "        return self.balance\n",
    "    \n",
    "    def withdraw(self, amount):\n",
    "        self.withdraw = amount\n",
    "        self.balance -=self.withdraw\n",
    "        if self.withdraw > amount:\n",
    "            raise Exception('insufficient amount')\n",
    "        return self.balance\n",
    "ba = BankAccount(1000, 0.12, 50)\n",
    "ba.finishMonth()"
   ]
  },
  {
   "cell_type": "code",
   "execution_count": 44,
   "metadata": {},
   "outputs": [
    {
     "data": {
      "text/plain": [
       "1960.0"
      ]
     },
     "execution_count": 44,
     "metadata": {},
     "output_type": "execute_result"
    }
   ],
   "source": [
    "ba.deposit(1000)"
   ]
  },
  {
   "cell_type": "code",
   "execution_count": 45,
   "metadata": {},
   "outputs": [
    {
     "data": {
      "text/plain": [
       "500.0"
      ]
     },
     "execution_count": 45,
     "metadata": {},
     "output_type": "execute_result"
    }
   ],
   "source": [
    "ba.withdraw(1460)"
   ]
  },
  {
   "cell_type": "code",
   "execution_count": 46,
   "metadata": {},
   "outputs": [],
   "source": [
    "from . import BankAccount"
   ]
  },
  {
   "cell_type": "code",
   "execution_count": 131,
   "metadata": {},
   "outputs": [],
   "source": [
    "class Bank:\n",
    "    def __init__(self, accounts):\n",
    "        self.__accounts = accounts\n",
    "\n",
    "    def withdraw(self, bank_account_number,amount):\n",
    "        if len(bank_account_number) == 10:\n",
    "            account = self.__accounts.get(bank_account_number)\n",
    "\n",
    "            if account is None:\n",
    "                raise Exception(\"Account does not exist.\")\n",
    "            account.withdraw(amount)\n",
    "            return account.balance          \n",
    "        else:\n",
    "            raise Exception(\"invalid account number\")\n",
    "            account.withdraw(amount)\n",
    "            return account.balance\n",
    "            \n",
    "    def deposit(self,bank_account_number,amount):\n",
    "        if len(bank_account_number) == 10:\n",
    "            account = self.__accounts.get(bank_account_number)\n",
    "\n",
    "            if account is None:\n",
    "                raise Exception(\"Account does not exist.\")\n",
    "            account.deposit(amount)\n",
    "            return account.balance\n",
    "        \n",
    "        \n",
    "    def transfer(self, from_bank_account_number,to_bank_account_number, amount):\n",
    "        self.from_bank_account_number = from_bank_account_number\n",
    "        self.to_bank_account_number = to_bank_account_number\n",
    "        self.amount = amount\n",
    "        if len(from_bank_account_number) and len(to_bank_account_number) == 10:\n",
    "            account = self.__accounts.get(from_bank_account_number,to_bank_account_number)\n",
    "\n",
    "            if account is None:\n",
    "                raise Exception(\"Account does not exist.\")\n",
    "\n",
    "        account.balance = account.balance - self.amount\n",
    "        asdf = self.amount\n",
    "        return account.balance, asdf"
   ]
  },
  {
   "cell_type": "code",
   "execution_count": 132,
   "metadata": {},
   "outputs": [
    {
     "data": {
      "text/plain": [
       "789"
      ]
     },
     "execution_count": 132,
     "metadata": {},
     "output_type": "execute_result"
    }
   ],
   "source": [
    "accounts = {'1234567890':BankAccount(1000,0.12,50),\n",
    "           '2345678901':BankAccount(10021,0.12,50),\n",
    "           '3456789012':BankAccount(12114,0.12,50),\n",
    "           '4567890123':BankAccount(12121,0.12,50)}\n",
    "b = Bank(accounts)\n",
    "b.withdraw('1234567890', 211)"
   ]
  },
  {
   "cell_type": "code",
   "execution_count": 133,
   "metadata": {},
   "outputs": [
    {
     "data": {
      "text/plain": [
       "10232"
      ]
     },
     "execution_count": 133,
     "metadata": {},
     "output_type": "execute_result"
    }
   ],
   "source": [
    "b.deposit('2345678901',211)"
   ]
  },
  {
   "cell_type": "code",
   "execution_count": 134,
   "metadata": {},
   "outputs": [
    {
     "data": {
      "text/plain": [
       "(10000, 232)"
      ]
     },
     "execution_count": 134,
     "metadata": {},
     "output_type": "execute_result"
    }
   ],
   "source": [
    "b.transfer('2345678901','1234567890',232)"
   ]
  },
  {
   "cell_type": "code",
   "execution_count": null,
   "metadata": {},
   "outputs": [],
   "source": []
  },
  {
   "cell_type": "code",
   "execution_count": 95,
   "metadata": {},
   "outputs": [],
   "source": [
    "from . import Bank"
   ]
  },
  {
   "cell_type": "code",
   "execution_count": 96,
   "metadata": {},
   "outputs": [],
   "source": [
    "class Customer:\n",
    "    def __init__(self, secret_password, password):\n",
    "        self.__secret_password = secret_password\n",
    "\n",
    "    def set_password(self, new_password, password):\n",
    "        self.__secret_password = new_password\n",
    "\n",
    "    def check_password(self, password):\n",
    "        return self.__secret_password == password"
   ]
  },
  {
   "cell_type": "code",
   "execution_count": 136,
   "metadata": {},
   "outputs": [],
   "source": [
    "accounts = {'1234567890':BankAccount(1000,0.12,50),\n",
    "           '2345678901':BankAccount(10021,0.12,50),\n",
    "           '3456789012':BankAccount(12114,0.12,50),\n",
    "           '4567890123':BankAccount(12121,0.12,50)}\n",
    "b = Bank(accounts)\n",
    "y = Customer(b)"
   ]
  },
  {
   "cell_type": "code",
   "execution_count": 137,
   "metadata": {},
   "outputs": [
    {
     "data": {
      "text/plain": [
       "<__main__.Bank at 0x7f414e264790>"
      ]
     },
     "execution_count": 137,
     "metadata": {},
     "output_type": "execute_result"
    }
   ],
   "source": [
    "b"
   ]
  },
  {
   "cell_type": "code",
   "execution_count": null,
   "metadata": {},
   "outputs": [],
   "source": [
    "class sas:\n",
    "    def withdraw(bank_account_number,amount,secret_password):\n",
    "        pass\n",
    "    def deposit(bank_account_number,amount):\n",
    "        pass\n",
    "    def transfer(from_bank_account_number,to_bank_account_number,amount,secret_password):\n",
    "        pass"
   ]
  },
  {
   "cell_type": "code",
   "execution_count": null,
   "metadata": {},
   "outputs": [],
   "source": []
  },
  {
   "cell_type": "code",
   "execution_count": null,
   "metadata": {},
   "outputs": [],
   "source": []
  },
  {
   "cell_type": "code",
   "execution_count": null,
   "metadata": {},
   "outputs": [],
   "source": []
  },
  {
   "cell_type": "code",
   "execution_count": null,
   "metadata": {},
   "outputs": [],
   "source": []
  },
  {
   "cell_type": "code",
   "execution_count": null,
   "metadata": {},
   "outputs": [],
   "source": []
  },
  {
   "cell_type": "code",
   "execution_count": null,
   "metadata": {},
   "outputs": [],
   "source": []
  },
  {
   "cell_type": "code",
   "execution_count": null,
   "metadata": {},
   "outputs": [],
   "source": []
  }
 ],
 "metadata": {
  "kernelspec": {
   "display_name": "Python 3",
   "language": "python",
   "name": "python3"
  },
  "language_info": {
   "codemirror_mode": {
    "name": "ipython",
    "version": 3
   },
   "file_extension": ".py",
   "mimetype": "text/x-python",
   "name": "python",
   "nbconvert_exporter": "python",
   "pygments_lexer": "ipython3",
   "version": "3.7.4"
  }
 },
 "nbformat": 4,
 "nbformat_minor": 2
}
