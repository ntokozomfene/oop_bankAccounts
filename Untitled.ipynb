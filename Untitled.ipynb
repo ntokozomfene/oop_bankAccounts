{
 "cells": [
  {
   "cell_type": "code",
   "execution_count": 1,
   "metadata": {},
   "outputs": [],
   "source": [
    "class banku:\n",
    "    def __init__(self):\n",
    "        self.__updateSoftware()\n",
    "        \n",
    "    def drive(self):\n",
    "        print('update software')\n",
    "    \n",
    "    def __updateSoftware(self):\n",
    "        print('updating software')\n",
    "    "
   ]
  },
  {
   "cell_type": "code",
   "execution_count": 2,
   "metadata": {},
   "outputs": [
    {
     "name": "stdout",
     "output_type": "stream",
     "text": [
      "updating software\n",
      "update software\n"
     ]
    }
   ],
   "source": [
    "a = banku()\n",
    "a.drive()"
   ]
  },
  {
   "cell_type": "code",
   "execution_count": 3,
   "metadata": {},
   "outputs": [],
   "source": [
    "class bank:\n",
    "    def __init__(self, bank_account_number, amount):\n",
    "        self.bank_account_number = bank_account_number\n",
    "        self.amount = amount\n",
    "#         self.__withdraw()\n",
    "#         self.__deposit()\n",
    "    def set_password(self, password):\n",
    "        self.password = input('')\n",
    "        \n",
    "    def withdraw(self):\n",
    "        self.withdraw_amount = float(input('amount'))\n",
    "        self.amount = self.amount - self.withdraw_amount\n",
    "        return \"Bank_account_number\",self.bank_account_number,\"bank_balance\", self.amount\n",
    "        \n",
    "    def deposit(self):\n",
    "        self.deposit = float(input('amount'))\n",
    "        self.amount = self.deposit + self.amount\n",
    "        return \"Bank_account_number\",self.bank_account_number,\"bank_balance\", self.amount\n",
    "    \n",
    "    def transfer(self):\n",
    "        self.transferred = float(input('amount'))\n",
    "        self.amount = self.amount - self.transferred\n",
    "        self.to_bank_account_number = int(input('acc number'))\n",
    "        return \"from_bank_account_number\", self.bank_account_number, \"to_bank_account_number\", self.to_bank_account_number,\"Balance\",self.amount,\"transferred_amount\",self.transferred"
   ]
  },
  {
   "cell_type": "code",
   "execution_count": 4,
   "metadata": {},
   "outputs": [],
   "source": [
    "b = bank(1234567890, 0)"
   ]
  },
  {
   "cell_type": "code",
   "execution_count": 5,
   "metadata": {},
   "outputs": [
    {
     "name": "stdout",
     "output_type": "stream",
     "text": [
      "amount123456\n"
     ]
    },
    {
     "data": {
      "text/plain": [
       "('Bank_account_number', 1234567890, 'bank_balance', -123456.0)"
      ]
     },
     "execution_count": 5,
     "metadata": {},
     "output_type": "execute_result"
    }
   ],
   "source": [
    "b.withdraw()"
   ]
  },
  {
   "cell_type": "code",
   "execution_count": 6,
   "metadata": {},
   "outputs": [
    {
     "name": "stdout",
     "output_type": "stream",
     "text": [
      "amount123456\n"
     ]
    },
    {
     "data": {
      "text/plain": [
       "('Bank_account_number', 1234567890, 'bank_balance', 0.0)"
      ]
     },
     "execution_count": 6,
     "metadata": {},
     "output_type": "execute_result"
    }
   ],
   "source": [
    "b.deposit()"
   ]
  },
  {
   "cell_type": "code",
   "execution_count": 7,
   "metadata": {},
   "outputs": [
    {
     "name": "stdout",
     "output_type": "stream",
     "text": [
      "amount0\n"
     ]
    },
    {
     "data": {
      "text/plain": [
       "('Bank_account_number', 1234567890, 'bank_balance', 0.0)"
      ]
     },
     "execution_count": 7,
     "metadata": {},
     "output_type": "execute_result"
    }
   ],
   "source": [
    "b.withdraw()"
   ]
  },
  {
   "cell_type": "code",
   "execution_count": 12,
   "metadata": {},
   "outputs": [],
   "source": [
    "# updated bank\n",
    "import getpass\n",
    "class up_bank:\n",
    "    def __init__(self, bank_account_number, amount):\n",
    "        self.bank_account_number = bank_account_number\n",
    "        self.amount = amount\n",
    "    def set_password(self, password):\n",
    "        self.password = input('')\n",
    "        \n",
    "    def withdraw(self):     # secret_password\n",
    "        self.secret_password = 12345\n",
    "        x = int(getpass.getpass('password'))\n",
    "        if x != self.secret_password:\n",
    "            raise Exception(\"Incorrect password\")\n",
    "        self.withdraw_amount = int(input('amount'))\n",
    "        if self.amount < self.withdraw_amount:\n",
    "            return 'insufficient funds'\n",
    "        self.amount = self.amount - self.withdraw_amount\n",
    "        return \"Bank_account_number\",self.bank_account_number,\"bank_balance\", self.amount\n",
    "    \n",
    "    def deposit(self):     # secret_password\n",
    "        self.deposit = float(input('amount'))\n",
    "        self.amount = self.deposit + self.amount\n",
    "        return \"Bank_account_number\",self.bank_account_number,\"bank_balance\", self.amount\n",
    "    \n",
    "\n",
    "    def transfer(self):\n",
    "        self.secret_password = 12345\n",
    "        x = int(getpass.getpass('password'))\n",
    "        if x != self.secret_password:\n",
    "            raise Exception(\"Incorrect password\")\n",
    "        self.transferred = float(input('amount'))\n",
    "        if self.amount < self.transferred:\n",
    "            return 'insufficient funds'\n",
    "        self.amount = self.amount - self.transferred \n",
    "        self.to_bank_account_number = float(input('acc number'))\n",
    "        return \"from_bank_account_number\", self.bank_account_number, \"to_bank_account_number\",self.to_bank_account_number,\"transferred_amount\",self.transferred,\"balance\",self.amount"
   ]
  },
  {
   "cell_type": "code",
   "execution_count": 40,
   "metadata": {},
   "outputs": [
    {
     "data": {
      "text/html": [
       "<div>\n",
       "<style scoped>\n",
       "    .dataframe tbody tr th:only-of-type {\n",
       "        vertical-align: middle;\n",
       "    }\n",
       "\n",
       "    .dataframe tbody tr th {\n",
       "        vertical-align: top;\n",
       "    }\n",
       "\n",
       "    .dataframe thead th {\n",
       "        text-align: right;\n",
       "    }\n",
       "</style>\n",
       "<table border=\"1\" class=\"dataframe\">\n",
       "  <thead>\n",
       "    <tr style=\"text-align: right;\">\n",
       "      <th></th>\n",
       "      <th>balance</th>\n",
       "      <th>acc_number</th>\n",
       "      <th>password</th>\n",
       "    </tr>\n",
       "  </thead>\n",
       "  <tbody>\n",
       "    <tr>\n",
       "      <td>0</td>\n",
       "      <td>1234</td>\n",
       "      <td>1234567890</td>\n",
       "      <td>12345</td>\n",
       "    </tr>\n",
       "    <tr>\n",
       "      <td>1</td>\n",
       "      <td>5423</td>\n",
       "      <td>2345678901</td>\n",
       "      <td>23451</td>\n",
       "    </tr>\n",
       "    <tr>\n",
       "      <td>2</td>\n",
       "      <td>1255</td>\n",
       "      <td>3456789012</td>\n",
       "      <td>34512</td>\n",
       "    </tr>\n",
       "    <tr>\n",
       "      <td>3</td>\n",
       "      <td>1244</td>\n",
       "      <td>4567890123</td>\n",
       "      <td>45123</td>\n",
       "    </tr>\n",
       "  </tbody>\n",
       "</table>\n",
       "</div>"
      ],
      "text/plain": [
       "   balance  acc_number  password\n",
       "0     1234  1234567890     12345\n",
       "1     5423  2345678901     23451\n",
       "2     1255  3456789012     34512\n",
       "3     1244  4567890123     45123"
      ]
     },
     "execution_count": 40,
     "metadata": {},
     "output_type": "execute_result"
    }
   ],
   "source": [
    "import pandas as pd\n",
    "dictt = {'balance': [1234,5423,1255,1244],'acc_number':[1234567890,2345678901,3456789012,4567890123],'password':[12345,23451,34512,45123]}\n",
    "df = pd.DataFrame.from_dict(dictt)\n",
    "df"
   ]
  },
  {
   "cell_type": "code",
   "execution_count": 66,
   "metadata": {},
   "outputs": [],
   "source": [
    "class bank:\n",
    "    def __init__(self, balance=0):\n",
    "        self.balance = balance\n",
    "        self.df = pd.DataFrame.from_dict(dictt)\n",
    "    def check_balance(self):\n",
    "        self.df = pd.DataFrame.from_dict(dictt)\n",
    "        self.balance = self.df[self.df.acc_number==int(input('acc no.'))].iloc[:,:1].values and self.df[self.df.password==int(input('password'))].iloc[:,:1].values\n",
    "        return self.balance\n",
    "    def withdraw(self):\n",
    "        self.balance = self.df[self.df.acc_number==int(input('acc no.'))].iloc[:,:1].values and self.df[self.df.password==int(input('password'))].iloc[:,:1].values\n",
    "        self.withdraw = int(input())\n",
    "        self.balance = self.balance - self.withdraw \n",
    "        return self.balance\n",
    "    def deposit(self):\n",
    "        self.deposit = int(input())\n",
    "        self.balance = self.df[self.df.acc_number==int(input('acc no.'))].iloc[:,:1].values\n",
    "        self.balance = self.balance + self.deposit \n",
    "        return self.balance\n",
    "bank = bank()"
   ]
  },
  {
   "cell_type": "code",
   "execution_count": 63,
   "metadata": {},
   "outputs": [
    {
     "name": "stdout",
     "output_type": "stream",
     "text": [
      "acc no.1234567890\n",
      "password12345\n"
     ]
    },
    {
     "data": {
      "text/plain": [
       "array([[1234]])"
      ]
     },
     "execution_count": 63,
     "metadata": {},
     "output_type": "execute_result"
    }
   ],
   "source": [
    "bank.check_balance()"
   ]
  },
  {
   "cell_type": "code",
   "execution_count": 64,
   "metadata": {},
   "outputs": [
    {
     "name": "stdout",
     "output_type": "stream",
     "text": [
      "acc no.1234567890\n",
      "password12345\n",
      "234\n"
     ]
    },
    {
     "data": {
      "text/plain": [
       "array([[1000]])"
      ]
     },
     "execution_count": 64,
     "metadata": {},
     "output_type": "execute_result"
    }
   ],
   "source": [
    "bank.withdraw()"
   ]
  },
  {
   "cell_type": "code",
   "execution_count": 65,
   "metadata": {},
   "outputs": [
    {
     "name": "stdout",
     "output_type": "stream",
     "text": [
      "1234\n"
     ]
    },
    {
     "name": "stderr",
     "output_type": "stream",
     "text": [
      "/home/recruit/anaconda3/lib/python3.7/site-packages/ipykernel_launcher.py:1: DeprecationWarning: The truth value of an empty array is ambiguous. Returning False, but in future this will result in an error. Use `array.size > 0` to check that an array is not empty.\n",
      "  \"\"\"Entry point for launching an IPython kernel.\n"
     ]
    },
    {
     "data": {
      "text/plain": [
       "array([], shape=(0, 1), dtype=int64)"
      ]
     },
     "execution_count": 65,
     "metadata": {},
     "output_type": "execute_result"
    }
   ],
   "source": [
    "df[df.acc_number==int(input())].iloc[:,:1].values and df[df.password==int(input())].iloc[:,:1].values"
   ]
  },
  {
   "cell_type": "code",
   "execution_count": null,
   "metadata": {},
   "outputs": [],
   "source": [
    "df.iloc[:,:1]"
   ]
  },
  {
   "cell_type": "code",
   "execution_count": null,
   "metadata": {},
   "outputs": [],
   "source": [
    "import getpass"
   ]
  }
 ],
 "metadata": {
  "kernelspec": {
   "display_name": "Python 3",
   "language": "python",
   "name": "python3"
  },
  "language_info": {
   "codemirror_mode": {
    "name": "ipython",
    "version": 3
   },
   "file_extension": ".py",
   "mimetype": "text/x-python",
   "name": "python",
   "nbconvert_exporter": "python",
   "pygments_lexer": "ipython3",
   "version": "3.7.4"
  }
 },
 "nbformat": 4,
 "nbformat_minor": 2
}
